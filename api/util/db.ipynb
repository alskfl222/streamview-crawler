{
 "cells": [
  {
   "cell_type": "code",
   "execution_count": 63,
   "metadata": {},
   "outputs": [
    {
     "name": "stdout",
     "output_type": "stream",
     "text": [
      "DB init\n",
      "\n",
      "TOTAL LISTS: 32\n",
      "TOTAL SONGS: 1718\n"
     ]
    }
   ],
   "source": [
    "from db import DB\n",
    "db = DB()"
   ]
  }
 ],
 "metadata": {
  "kernelspec": {
   "display_name": "mapleinfo",
   "language": "python",
   "name": "python3"
  },
  "language_info": {
   "codemirror_mode": {
    "name": "ipython",
    "version": 3
   },
   "file_extension": ".py",
   "mimetype": "text/x-python",
   "name": "python",
   "nbconvert_exporter": "python",
   "pygments_lexer": "ipython3",
   "version": "3.10.3"
  },
  "orig_nbformat": 4,
  "vscode": {
   "interpreter": {
    "hash": "47ec8fad5c84db67763452136f6d82a82c23bcec1b0f3b6131ba145316a2d5b5"
   }
  }
 },
 "nbformat": 4,
 "nbformat_minor": 2
}
