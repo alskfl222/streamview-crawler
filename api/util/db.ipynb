{
 "cells": [
  {
   "cell_type": "code",
   "execution_count": null,
   "metadata": {},
   "outputs": [],
   "source": [
    "import os\n",
    "import json\n",
    "import requests\n",
    "import boto3\n",
    "from boto3.dynamodb.conditions import Key, Attr\n",
    "from dotenv import load_dotenv\n",
    "dynamodb = boto3.resource('dynamodb')"
   ]
  },
  {
   "cell_type": "code",
   "execution_count": null,
   "metadata": {},
   "outputs": [],
   "source": [
    "load_dotenv()\n",
    "API_KEY = os.getenv('YOUTUBE_API_KEY')"
   ]
  },
  {
   "cell_type": "code",
   "execution_count": null,
   "metadata": {},
   "outputs": [],
   "source": [
    "def get_query_string(query):\n",
    "  query = { **query, \"key\": API_KEY }\n",
    "  container = []\n",
    "  for i in query.items():\n",
    "    container.append(f\"{i[0]}={i[1]}\")\n",
    "  query_string = f\"?{'&'.join(container)}\"\n",
    "  return query_string"
   ]
  },
  {
   "cell_type": "code",
   "execution_count": null,
   "metadata": {},
   "outputs": [],
   "source": [
    "def get_lists_all(base_url, query):\n",
    "  query_string = get_query_string(query)\n",
    "  url = f\"{base_url}{query_string}\"\n",
    "  res = requests.get(url)\n",
    "  if not res.ok:\n",
    "    print(res.status_code)\n",
    "    return []\n",
    "  data = json.loads(res.content)\n",
    "  lists = [\n",
    "    {\n",
    "      \"title\": x['snippet']['title'],\n",
    "      \"id\": x['id']\n",
    "    } for x in data['items']\n",
    "  ]\n",
    "  if \"nextPageToken\" in data:\n",
    "    next_query = { **query, 'pageToken': data[\"nextPageToken\"] }\n",
    "    return [*lists, *get_lists_all(base_url, next_query)]\n",
    "  return lists"
   ]
  },
  {
   "cell_type": "code",
   "execution_count": null,
   "metadata": {},
   "outputs": [],
   "source": [
    "def get_playlists():\n",
    "  base_url = 'https://www.googleapis.com/youtube/v3/playlists'\n",
    "  query = {\n",
    "    \"part\": \"snippet\",\n",
    "    \"channelId\": \"UCU5LUUBNDzGOeAri5Wk8w5Q\",\n",
    "    \"maxResults\": 50\n",
    "  }  \n",
    "  lists = get_lists_all(base_url, query)\n",
    "  lists = [x for x in lists if x['title'].startswith('BGM')]\n",
    "  lists = sorted(lists, key=lambda x: x['title'])\n",
    "  return lists"
   ]
  },
  {
   "cell_type": "code",
   "execution_count": null,
   "metadata": {},
   "outputs": [],
   "source": [
    "# playlists = get_playlists()"
   ]
  },
  {
   "cell_type": "code",
   "execution_count": null,
   "metadata": {},
   "outputs": [],
   "source": [
    "def get_list_items_all(base_url, query):\n",
    "  query_string = get_query_string(query)\n",
    "  url = f\"{base_url}{query_string}\"\n",
    "  res = requests.get(url)\n",
    "  if not res.ok:\n",
    "    print(res.status_code)\n",
    "    return []\n",
    "  data = json.loads(res.content)\n",
    "  list_items = [\n",
    "    {\n",
    "      \"title\": x['snippet']['title'],\n",
    "      \"id\": x['snippet']['resourceId']['videoId'],\n",
    "      \"channel\": x['snippet']['videoOwnerChannelTitle'] if 'videoOwnerChannelTitle' in x['snippet'] else 'unavailable',\n",
    "      \"channel_id\": x['snippet']['videoOwnerChannelId'] if 'videoOwnerChannelTitle' in x['snippet'] else 'unavailable',\n",
    "      \"from\": \"list\",\n",
    "      \"active\": True if 'videoOwnerChannelTitle' in x['snippet'] else False\n",
    "    } for x in data['items']\n",
    "  ]\n",
    "  if \"nextPageToken\" in data:\n",
    "    next_query = { **query, 'pageToken': data[\"nextPageToken\"] }\n",
    "    return [*list_items, *get_list_items_all(base_url, next_query)]\n",
    "  return list_items"
   ]
  },
  {
   "cell_type": "code",
   "execution_count": null,
   "metadata": {},
   "outputs": [],
   "source": [
    "def get_playlist_items(playlist_id):\n",
    "  base_url = 'https://www.googleapis.com/youtube/v3/playlistItems'\n",
    "  query = {\n",
    "    \"part\": \"snippet\",\n",
    "    \"playlistId\": playlist_id,\n",
    "    \"maxResults\": 50\n",
    "  }\n",
    "  list_items = get_list_items_all(base_url, query)\n",
    "  return list_items"
   ]
  },
  {
   "cell_type": "code",
   "execution_count": null,
   "metadata": {},
   "outputs": [],
   "source": [
    "# lists_items = [get_playlist_items(x['id']) for x in playlists]\n",
    "# flatten_items = sum(lists_items, [])\n",
    "# total_items = [dict(t) for t in {tuple(d.items()) for d in flatten_items}]"
   ]
  },
  {
   "cell_type": "code",
   "execution_count": null,
   "metadata": {},
   "outputs": [],
   "source": [
    "# table_total = dynamodb.Table('total')\n",
    "# with table_total.batch_writer() as batch:\n",
    "#   for item in total_items:\n",
    "#     batch.put_item(\n",
    "#       Item=item\n",
    "#     )"
   ]
  },
  {
   "cell_type": "code",
   "execution_count": null,
   "metadata": {},
   "outputs": [],
   "source": [
    "table_total = dynamodb.Table('total')\n",
    "table_monthly = dynamodb.Table('monthly')"
   ]
  },
  {
   "cell_type": "code",
   "execution_count": null,
   "metadata": {},
   "outputs": [],
   "source": [
    "# with table_monthly.batch_writer() as batch:\n",
    "#   for idx, items in enumerate(lists_items):  \n",
    "#     row = {\n",
    "#       **playlists[idx],\n",
    "#       \"items\": items\n",
    "#     }\n",
    "#     batch.put_item(\n",
    "#       Item=row\n",
    "#     )"
   ]
  },
  {
   "cell_type": "code",
   "execution_count": null,
   "metadata": {},
   "outputs": [],
   "source": [
    "def get_item_index(id, items):\n",
    "  for idx, item in enumerate(items):\n",
    "    if item['id'] == id:\n",
    "      return idx\n",
    "  return -1"
   ]
  },
  {
   "cell_type": "code",
   "execution_count": null,
   "metadata": {},
   "outputs": [],
   "source": [
    "def get_update_params(body):\n",
    "  update_expression = [\"set \"]\n",
    "  update_values = dict()\n",
    "\n",
    "  for key, val in body.items():\n",
    "      update_expression.append(f\" {key} = :{key},\")\n",
    "      update_values[f\":{key}\"] = val\n",
    "\n",
    "  return \"\".join(update_expression)[:-1], update_values"
   ]
  },
  {
   "cell_type": "code",
   "execution_count": null,
   "metadata": {},
   "outputs": [],
   "source": [
    "def update_song_in_monthly(monthly_id, song_id, update_values):\n",
    "  res_monthly = table_monthly.scan(\n",
    "    FilterExpression=Attr('id').eq(monthly_id)\n",
    "  )['Items'][0]\n",
    "  items = res_monthly['items']\n",
    "  item_index = get_item_index(song_id, items)\n",
    "  prev_item = items.pop(item_index)\n",
    "  new_item = {\n",
    "    **prev_item,\n",
    "    **update_values\n",
    "  }\n",
    "  items.insert(item_index, new_item)\n",
    "  table_monthly.put_item(\n",
    "    Item={\n",
    "      **res_monthly,\n",
    "      'items': items\n",
    "    }\n",
    "  )"
   ]
  },
  {
   "cell_type": "code",
   "execution_count": null,
   "metadata": {},
   "outputs": [],
   "source": [
    "def update_song_in_total(song_id, update_values):\n",
    "  a, v = get_update_params(update_values)\n",
    "  table_total.update_item(\n",
    "    Key={ 'id': song_id },\n",
    "    UpdateExpression=a,\n",
    "    ExpressionAttributeValues=dict(v)\n",
    "  )"
   ]
  },
  {
   "cell_type": "code",
   "execution_count": 56,
   "metadata": {},
   "outputs": [],
   "source": [
    "def update_song(monthly_id, song_id, update_values):\n",
    "  update_song_in_monthly(monthly_id, song_id, update_values)\n",
    "  update_song_in_total(song_id, update_values)"
   ]
  },
  {
   "cell_type": "code",
   "execution_count": 60,
   "metadata": {},
   "outputs": [],
   "source": [
    "update_song('PLj63tGIo1sSoJptRycAjrMxNVLatBejpp', 'b12-WUgXAzg', { 'active': False })"
   ]
  },
  {
   "cell_type": "code",
   "execution_count": 61,
   "metadata": {},
   "outputs": [
    {
     "data": {
      "text/plain": [
       "{'channel': 'Author wind - Topic',\n",
       " 'active': False,\n",
       " 'from': 'list',\n",
       " 'id': 'b12-WUgXAzg',\n",
       " 'title': 'Fairy Tale',\n",
       " 'channel_id': 'UCeieSudBwInJNTbW0ylHfGg'}"
      ]
     },
     "execution_count": 61,
     "metadata": {},
     "output_type": "execute_result"
    }
   ],
   "source": [
    "res_monthly = table_monthly.scan(\n",
    "  FilterExpression=Attr('id').eq('PLj63tGIo1sSoJptRycAjrMxNVLatBejpp')\n",
    ")['Items'][0]\n",
    "items = res_monthly['items']\n",
    "items[3]"
   ]
  },
  {
   "cell_type": "code",
   "execution_count": 62,
   "metadata": {},
   "outputs": [
    {
     "name": "stdout",
     "output_type": "stream",
     "text": [
      "[{'active': False, 'from': 'list', 'channel_id': 'UCeieSudBwInJNTbW0ylHfGg', 'id': 'b12-WUgXAzg', 'channel': 'Author wind - Topic', 'title': 'Fairy Tale'}]\n"
     ]
    }
   ],
   "source": [
    "res_total = table_total.scan(\n",
    "  FilterExpression=Attr('id').eq('b12-WUgXAzg')\n",
    ")['Items']\n",
    "print(res_total)"
   ]
  },
  {
   "cell_type": "code",
   "execution_count": null,
   "metadata": {},
   "outputs": [],
   "source": [
    "total_id_list = [x for x in res_total]"
   ]
  }
 ],
 "metadata": {
  "kernelspec": {
   "display_name": "mapleinfo",
   "language": "python",
   "name": "python3"
  },
  "language_info": {
   "codemirror_mode": {
    "name": "ipython",
    "version": 3
   },
   "file_extension": ".py",
   "mimetype": "text/x-python",
   "name": "python",
   "nbconvert_exporter": "python",
   "pygments_lexer": "ipython3",
   "version": "3.10.3"
  },
  "orig_nbformat": 4,
  "vscode": {
   "interpreter": {
    "hash": "47ec8fad5c84db67763452136f6d82a82c23bcec1b0f3b6131ba145316a2d5b5"
   }
  }
 },
 "nbformat": 4,
 "nbformat_minor": 2
}
